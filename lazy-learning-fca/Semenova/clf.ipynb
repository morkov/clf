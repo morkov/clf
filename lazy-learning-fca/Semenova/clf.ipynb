{
 "metadata": {
  "name": "",
  "signature": "sha256:321febed1509f900c6d860bb65800e205df7daadaad5d8b61a59c7e8e5f9c8e7"
 },
 "nbformat": 3,
 "nbformat_minor": 0,
 "worksheets": [
  {
   "cells": [
    {
     "cell_type": "code",
     "collapsed": false,
     "input": [
      "from itertools import combinations\n",
      "import numpy as np\n",
      "from collections import Counter\n",
      "import json"
     ],
     "language": "python",
     "metadata": {},
     "outputs": [],
     "prompt_number": 1
    },
    {
     "cell_type": "code",
     "collapsed": false,
     "input": [
      "f = open('connect-4/connect-4.data').readlines()"
     ],
     "language": "python",
     "metadata": {},
     "outputs": [],
     "prompt_number": 2
    },
    {
     "cell_type": "code",
     "collapsed": false,
     "input": [
      "vectors = []\n",
      "for line in f:\n",
      "    vector = line.strip().split(',')\n",
      "    vectors.append(vector)"
     ],
     "language": "python",
     "metadata": {},
     "outputs": [],
     "prompt_number": 3
    },
    {
     "cell_type": "code",
     "collapsed": false,
     "input": [
      "wins = [v[:42] for v in vectors if v[42] == 'win']\n",
      "loss = [v[:42] for v in vectors if v[42] == 'loss']\n",
      "draw = [v[:42] for v in vectors if v[42] == 'draw']"
     ],
     "language": "python",
     "metadata": {},
     "outputs": [],
     "prompt_number": 6
    },
    {
     "cell_type": "code",
     "collapsed": false,
     "input": [
      "len(wins), len(loss), len(draw)"
     ],
     "language": "python",
     "metadata": {},
     "outputs": [
      {
       "metadata": {},
       "output_type": "pyout",
       "prompt_number": 7,
       "text": [
        "(44473, 16635, 6449)"
       ]
      }
     ],
     "prompt_number": 7
    },
    {
     "cell_type": "code",
     "collapsed": false,
     "input": [
      "def eq(data, inds):\n",
      "    array = []    \n",
      "    for d in data:\n",
      "        array.append(tuple(d[i] for i in inds))\n",
      "    c = Counter(array)\n",
      "    p, q = c.most_common(2)\n",
      "    #print(p, q)\n",
      "    #print(c)\n",
      "    if p[1] >= 2 * q[1]:\n",
      "        return True, p[0]\n",
      "    return False, p[0]\n"
     ],
     "language": "python",
     "metadata": {},
     "outputs": [],
     "prompt_number": 8
    },
    {
     "cell_type": "code",
     "collapsed": false,
     "input": [
      "w = json.load(open('counter/wins39'))\n",
      "l = json.load(open('counter/loss39'))"
     ],
     "language": "python",
     "metadata": {},
     "outputs": [],
     "prompt_number": 26
    },
    {
     "cell_type": "code",
     "collapsed": false,
     "input": [
      "wins_inds = w#{}\n",
      "loss_inds = l#{}\n",
      "count = 0\n",
      "for c in reversed(range(3, 38)):#42)):\n",
      "    print(c)\n",
      "    for inds in combinations(range(42), c):\n",
      "        count += 1\n",
      "        rw, w = eq(wins, inds)\n",
      "        rl, l = eq(loss, inds)\n",
      "        rd, d = eq(draw, inds)\n",
      "        if rw and not rl and not rd:\n",
      "            wins_inds[':'.join(map(str, inds))] = w\n",
      "        if rl and not rw and not rd:\n",
      "            loss_inds[':'.join(map(str, inds))] = l\n",
      "        if count % 10000 == 0:\n",
      "            print(count)\n",
      "        #print(inds)\n",
      "        #print(rw, w)\n",
      "        #print(rl, l)\n",
      "        #print(rd, d)\n",
      "        #print('')\n",
      "    ww = open('counter/wins'+str(c), 'w')\n",
      "    wl = open('counter/loss'+str(c), 'w')\n",
      "    json.dump(wins_inds, ww, indent=4)\n",
      "    json.dump(loss_inds, wl, indent=4)\n",
      "    ww.close(); wl.close()\n",
      "    #print(len(wins_inds))\n",
      "    #print(len(loss_inds))\n",
      "    #print('')\n"
     ],
     "language": "python",
     "metadata": {},
     "outputs": []
    },
    {
     "cell_type": "code",
     "collapsed": false,
     "input": [
      "wins_inds"
     ],
     "language": "python",
     "metadata": {},
     "outputs": [
      {
       "metadata": {},
       "output_type": "pyout",
       "prompt_number": 131,
       "text": [
        "{(6, 7): ('b', 'b'), (13, 24): ('b', 'b')}"
       ]
      }
     ],
     "prompt_number": 131
    },
    {
     "cell_type": "code",
     "collapsed": false,
     "input": [
      "print(np.array(wins[44000]).reshape(7, 6).T)"
     ],
     "language": "python",
     "metadata": {},
     "outputs": [
      {
       "output_type": "stream",
       "stream": "stdout",
       "text": [
        "[['x' 'b' 'o' 'b' 'x' 'b' 'b']\n",
        " ['o' 'b' 'b' 'b' 'b' 'b' 'b']\n",
        " ['o' 'b' 'b' 'b' 'b' 'b' 'b']\n",
        " ['x' 'b' 'b' 'b' 'b' 'b' 'b']\n",
        " ['x' 'b' 'b' 'b' 'b' 'b' 'b']\n",
        " ['o' 'b' 'b' 'b' 'b' 'b' 'b']]\n"
       ]
      }
     ],
     "prompt_number": 99
    },
    {
     "cell_type": "code",
     "collapsed": false,
     "input": [],
     "language": "python",
     "metadata": {},
     "outputs": []
    }
   ],
   "metadata": {}
  }
 ]
}