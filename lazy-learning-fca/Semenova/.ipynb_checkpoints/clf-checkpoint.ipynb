{
 "metadata": {
  "name": "",
  "signature": "sha256:dbad4301eb30cde2bf137f941f4ce749345441c6188115e0146f51c7e78e487b"
 },
 "nbformat": 3,
 "nbformat_minor": 0,
 "worksheets": [
  {
   "cells": [
    {
     "cell_type": "code",
     "collapsed": false,
     "input": [
      "from itertools import combinations\n",
      "import numpy as np\n",
      "from collections import Counter\n",
      "import json\n",
      "from random import shuffle, choice\n",
      "from collections import defaultdict\n",
      "import sys"
     ],
     "language": "python",
     "metadata": {},
     "outputs": [],
     "prompt_number": 128
    },
    {
     "cell_type": "code",
     "collapsed": false,
     "input": [
      "f = open('connect-4/connect-4.data')\n",
      "\n",
      "vectors = []\n",
      "for line in f:\n",
      "    vector = line.strip().split(',')\n",
      "    vectors.append(vector)"
     ],
     "language": "python",
     "metadata": {},
     "outputs": [],
     "prompt_number": 106
    },
    {
     "cell_type": "code",
     "collapsed": false,
     "input": [
      "shuffle(vectors)\n",
      "\n",
      "def cv(vectors, n=3):\n",
      "    ind = 1\n",
      "    how = len(vectors) // n\n",
      "    while ind < len(vectors):\n",
      "        test = vectors[ind:ind+how]\n",
      "        train = vectors[:ind] + vectors[ind+how:]\n",
      "        ind += how\n",
      "        yield train, test"
     ],
     "language": "python",
     "metadata": {},
     "outputs": [],
     "prompt_number": 182
    },
    {
     "cell_type": "code",
     "collapsed": false,
     "input": [
      "def get_wins(vectors):\n",
      "    return [v[:42] for v in vectors if v[42] == 'win']\n",
      "def get_loss(vectors):\n",
      "    return [v[:42] for v in vectors if v[42] == 'loss']\n",
      "def get_draw(vectors):\n",
      "    return [v[:42] for v in vectors if v[42] == 'draw']"
     ],
     "language": "python",
     "metadata": {},
     "outputs": [],
     "prompt_number": 108
    },
    {
     "cell_type": "code",
     "collapsed": false,
     "input": [
      "def eq(xs, ys):\n",
      "    def func(a, b):\n",
      "        if a == b:\n",
      "            if a != \"b\":\n",
      "                return 2\n",
      "            return 1\n",
      "        return 0\n",
      "    \n",
      "    res = sum(map(lambda x: func(x[0], x[1]), zip(xs, ys))) / len(xs)\n",
      "    return res"
     ],
     "language": "python",
     "metadata": {},
     "outputs": [],
     "prompt_number": 183
    },
    {
     "cell_type": "code",
     "collapsed": false,
     "input": [
      "e = 10**(-6)\n",
      "v = {'x' : [1, e, e],\n",
      "     'o' : [e, 1, e],\n",
      "     'b' : [e, e, 1]\n",
      "     }\n",
      "def eq2(xs, ys):\n",
      "    n = len(xs)\n",
      "    x = []\n",
      "    y = []\n",
      "    for i in xs:\n",
      "        x.extend(v[i])\n",
      "    for j in ys:\n",
      "        y.extend(v[j])\n",
      "    z = np.array(x) * np.array(y)\n",
      "    return sum(z) / n"
     ],
     "language": "python",
     "metadata": {},
     "outputs": [],
     "prompt_number": 187
    },
    {
     "cell_type": "code",
     "collapsed": false,
     "input": [
      "eq2(['x', 'b', 'o', 'b', 'x', 'b', 'b'], ['o', 'b', 'o', 'b', 'b', 'b', 'b'])"
     ],
     "language": "python",
     "metadata": {},
     "outputs": [
      {
       "metadata": {},
       "output_type": "pyout",
       "prompt_number": 188,
       "text": [
        "0.71428628571600028"
       ]
      }
     ],
     "prompt_number": 188
    },
    {
     "cell_type": "code",
     "collapsed": false,
     "input": [
      "eq(['x', 'b', 'o', 'b', 'x', 'b', 'b'], ['o', 'b', 'o', 'b', 'b', 'b', 'b'])"
     ],
     "language": "python",
     "metadata": {},
     "outputs": [
      {
       "metadata": {},
       "output_type": "pyout",
       "prompt_number": 141,
       "text": [
        "0.5714285714285714"
       ]
      }
     ],
     "prompt_number": 141
    },
    {
     "cell_type": "code",
     "collapsed": false,
     "input": [
      "def mean_compare(sample, train):\n",
      "    res = 0\n",
      "    for item in train:\n",
      "        r = eq2(sample, item)\n",
      "        res += r\n",
      "    return res / len(train)"
     ],
     "language": "python",
     "metadata": {},
     "outputs": [],
     "prompt_number": 189
    },
    {
     "cell_type": "code",
     "collapsed": false,
     "input": [
      "for train, test in cv(vectors):    \n",
      "    print('{} test samples\\n{} train samples'.format(len(test), len(train)))\n",
      "\n",
      "    wins = get_wins(train)\n",
      "    loss = get_loss(train)\n",
      "    draw = get_draw(train)\n",
      "    print(len(wins), len(loss), len(draw))\n",
      "    \n",
      "    tp = 0\n",
      "    tn = 0\n",
      "    fn = 0\n",
      "    fp = 0\n",
      "    for count, item in enumerate(test, 1):\n",
      "        sample = item[:-1]\n",
      "        target = item[-1]\n",
      "        if target != 'win':\n",
      "            target = 'notwin'\n",
      "            \n",
      "        res = {}\n",
      "        w = mean_compare(sample, wins)\n",
      "        l = mean_compare(sample, loss)\n",
      "        d = mean_compare(sample, draw)\n",
      "        notw = (l + d) / 2\n",
      "        \n",
      "        res['win'] = w \n",
      "        res['notwin'] = notw\n",
      "        \n",
      "        m = max(w, notw)\n",
      "        if target == 'win':\n",
      "            if res[target] == m:\n",
      "                tp += 1 #true = win, predicated = win\n",
      "            else:\n",
      "                fn += 1 #true = win, predicted = notwin\n",
      "        else:\n",
      "            if res[target] == m:\n",
      "                tn += 1 #true = notwin, predicted = notwin\n",
      "            else:\n",
      "                fp += 1 #true = notwin, predicted = win\n",
      "           \n",
      "        if count % 500 == 0:\n",
      "            print('ww : {}, wn : {}\\nnn : {}, nw : {}\\n'.format(tp, fn, tn, fp))\n",
      "\n",
      "            try:\n",
      "                precision = tp / (tp + fp)      \n",
      "                recall = tp / (tp + fn)      \n",
      "                fmeasure = 2 * precision * recall / (precision + recall)\n",
      "                true_negative_rate = tn / (tn + fp)\n",
      "                accuracy = (tp + tn) / (tp + tn + fp + fn)\n",
      "                print('{}: fmeasure = {}; true_negative_rate = {}; accuracy = {}\\n'\\\n",
      "                      .format(count, fmeasure, true_negative_rate, accuracy))\n",
      "                sys.stdout.flush()\n",
      "            except Exception as e:\n",
      "                print(repr(e))\n",
      "                continue\n",
      "            \n",
      "    break #break cv\n",
      "'''\n",
      "\u041f\u0435\u0440\u0432\u043e\u043d\u0430\u0447\u0430\u043b\u044c\u043d\u044b\u0439 \u0432\u0430\u0440\u0438\u0430\u043d\u0442:\n",
      "ww : 1271, wn : 715\n",
      "nn : 740, nw : 274\n",
      "3000: fmeasure = 0.7199093741149816; true_negative_rate = 0.7297830374753451; accuracy = 0.6703333333333333\n",
      "\n",
      "\u0412\u0430\u0440\u0438\u0430\u043d\u0442 \u0441 'return 2', \u0435\u0441\u043b\u0438 \u0441\u043e\u0432\u043f\u0430\u043b\u043e \u043d\u0435 \u043f\u0443\u0441\u0442\u043e\u0435 \u043f\u043e\u043b\u0435:\n",
      "ww : 7158, wn : 4405\n",
      "nn : 4499, nw : 1438\n",
      "17500: fmeasure = 0.7101542735254724; true_negative_rate = 0.7577901296951323; accuracy = 0.6661142857142857\n",
      "\n",
      "\u0412\u0430\u0440\u0438\u0430\u043d\u0442 \u0441 eq2:\n",
      "ww : 2491, wn : 1476\n",
      "nn : 1484, nw : 549\n",
      "6000: fmeasure = 0.7110032824318538; true_negative_rate = 0.7299557304476144; accuracy = 0.6625\n",
      "\n",
      "'''"
     ],
     "language": "python",
     "metadata": {},
     "outputs": [
      {
       "output_type": "stream",
       "stream": "stdout",
       "text": [
        "22519 test samples\n",
        "45038 train samples\n",
        "29655"
       ]
      },
      {
       "output_type": "stream",
       "stream": "stdout",
       "text": [
        " 11084 4299\n",
        "ww : 201, wn : 119\n",
        "nn : 131, nw : 49\n"
       ]
      },
      {
       "output_type": "stream",
       "stream": "stdout",
       "text": [
        "\n",
        "500: fmeasure = 0.7052631578947369; true_negative_rate = 0.7277777777777777; accuracy = 0.664\n",
        "\n"
       ]
      },
      {
       "output_type": "stream",
       "stream": "stdout",
       "text": [
        "ww : 398, wn : 251\n",
        "nn : 260, nw : 91\n",
        "\n",
        "1000: fmeasure = 0.6994727592267135; true_negative_rate = 0.7407407407407407; accuracy = 0.658\n",
        "\n"
       ]
      },
      {
       "output_type": "stream",
       "stream": "stdout",
       "text": [
        "ww : 614, wn : 356\n",
        "nn : 391, nw : 139\n",
        "\n",
        "1500: fmeasure = 0.7127103888566453; true_negative_rate = 0.7377358490566037; accuracy = 0.67\n",
        "\n"
       ]
      },
      {
       "output_type": "stream",
       "stream": "stdout",
       "text": [
        "ww : 815, wn : 492\n",
        "nn : 512, nw : 181\n",
        "\n",
        "2000: fmeasure = 0.7077724706904038; true_negative_rate = 0.7388167388167388; accuracy = 0.6635\n",
        "\n"
       ]
      },
      {
       "output_type": "stream",
       "stream": "stdout",
       "text": [
        "ww : 1013, wn : 626\n",
        "nn : 632, nw : 229\n",
        "\n",
        "2500: fmeasure = 0.7032280458174246; true_negative_rate = 0.7340301974448316; accuracy = 0.658\n",
        "\n"
       ]
      },
      {
       "output_type": "stream",
       "stream": "stdout",
       "text": [
        "ww : 1232, wn : 745\n",
        "nn : 744, nw : 279\n",
        "\n",
        "3000: fmeasure = 0.706422018348624; true_negative_rate = 0.7272727272727273; accuracy = 0.6586666666666666\n",
        "\n"
       ]
      },
      {
       "output_type": "stream",
       "stream": "stdout",
       "text": [
        "ww : 1440, wn : 863\n",
        "nn : 885, nw : 312\n",
        "\n",
        "3500: fmeasure = 0.7102342786683107; true_negative_rate = 0.7393483709273183; accuracy = 0.6642857142857143\n",
        "\n"
       ]
      },
      {
       "output_type": "stream",
       "stream": "stdout",
       "text": [
        "ww : 1657, wn : 983\n",
        "nn : 1001, nw : 359\n",
        "\n",
        "4000: fmeasure = 0.711769759450172; true_negative_rate = 0.7360294117647059; accuracy = 0.6645\n",
        "\n"
       ]
      },
      {
       "output_type": "stream",
       "stream": "stdout",
       "text": [
        "ww : 1852, wn : 1109\n",
        "nn : 1134, nw : 405\n",
        "\n",
        "4500: fmeasure = 0.709850517439632; true_negative_rate = 0.7368421052631579; accuracy = 0.6635555555555556\n",
        "\n"
       ]
      },
      {
       "output_type": "stream",
       "stream": "stdout",
       "text": [
        "ww : 2064, wn : 1236\n",
        "nn : 1247, nw : 453\n",
        "\n",
        "5000: fmeasure = 0.7096441464672513; true_negative_rate = 0.7335294117647059; accuracy = 0.6622\n",
        "\n"
       ]
      },
      {
       "output_type": "stream",
       "stream": "stdout",
       "text": [
        "ww : 2285, wn : 1354\n",
        "nn : 1361, nw : 500\n",
        "\n",
        "5500: fmeasure = 0.7113947696139477; true_negative_rate = 0.7313272434175174; accuracy = 0.6629090909090909\n",
        "\n"
       ]
      },
      {
       "output_type": "stream",
       "stream": "stdout",
       "text": [
        "ww : 2491, wn : 1476\n",
        "nn : 1484, nw : 549\n",
        "\n",
        "6000: fmeasure = 0.7110032824318538; true_negative_rate = 0.7299557304476144; accuracy = 0.6625\n",
        "\n"
       ]
      },
      {
       "ename": "KeyboardInterrupt",
       "evalue": "",
       "output_type": "pyerr",
       "traceback": [
        "\u001b[0;31m---------------------------------------------------------------------------\u001b[0m\n\u001b[0;31mKeyboardInterrupt\u001b[0m                         Traceback (most recent call last)",
        "\u001b[0;32m<ipython-input-190-54b1b0305f69>\u001b[0m in \u001b[0;36m<module>\u001b[0;34m()\u001b[0m\n\u001b[1;32m     18\u001b[0m \u001b[0;34m\u001b[0m\u001b[0m\n\u001b[1;32m     19\u001b[0m         \u001b[0mres\u001b[0m \u001b[0;34m=\u001b[0m \u001b[0;34m{\u001b[0m\u001b[0;34m}\u001b[0m\u001b[0;34m\u001b[0m\u001b[0m\n\u001b[0;32m---> 20\u001b[0;31m         \u001b[0mw\u001b[0m \u001b[0;34m=\u001b[0m \u001b[0mmean_compare\u001b[0m\u001b[0;34m(\u001b[0m\u001b[0msample\u001b[0m\u001b[0;34m,\u001b[0m \u001b[0mwins\u001b[0m\u001b[0;34m)\u001b[0m\u001b[0;34m\u001b[0m\u001b[0m\n\u001b[0m\u001b[1;32m     21\u001b[0m         \u001b[0ml\u001b[0m \u001b[0;34m=\u001b[0m \u001b[0mmean_compare\u001b[0m\u001b[0;34m(\u001b[0m\u001b[0msample\u001b[0m\u001b[0;34m,\u001b[0m \u001b[0mloss\u001b[0m\u001b[0;34m)\u001b[0m\u001b[0;34m\u001b[0m\u001b[0m\n\u001b[1;32m     22\u001b[0m         \u001b[0md\u001b[0m \u001b[0;34m=\u001b[0m \u001b[0mmean_compare\u001b[0m\u001b[0;34m(\u001b[0m\u001b[0msample\u001b[0m\u001b[0;34m,\u001b[0m \u001b[0mdraw\u001b[0m\u001b[0;34m)\u001b[0m\u001b[0;34m\u001b[0m\u001b[0m\n",
        "\u001b[0;32m<ipython-input-189-3711cb3a0b76>\u001b[0m in \u001b[0;36mmean_compare\u001b[0;34m(sample, train)\u001b[0m\n\u001b[1;32m      2\u001b[0m     \u001b[0mres\u001b[0m \u001b[0;34m=\u001b[0m \u001b[0;36m0\u001b[0m\u001b[0;34m\u001b[0m\u001b[0m\n\u001b[1;32m      3\u001b[0m     \u001b[0;32mfor\u001b[0m \u001b[0mitem\u001b[0m \u001b[0;32min\u001b[0m \u001b[0mtrain\u001b[0m\u001b[0;34m:\u001b[0m\u001b[0;34m\u001b[0m\u001b[0m\n\u001b[0;32m----> 4\u001b[0;31m         \u001b[0mr\u001b[0m \u001b[0;34m=\u001b[0m \u001b[0meq2\u001b[0m\u001b[0;34m(\u001b[0m\u001b[0msample\u001b[0m\u001b[0;34m,\u001b[0m \u001b[0mitem\u001b[0m\u001b[0;34m)\u001b[0m\u001b[0;34m\u001b[0m\u001b[0m\n\u001b[0m\u001b[1;32m      5\u001b[0m         \u001b[0mres\u001b[0m \u001b[0;34m+=\u001b[0m \u001b[0mr\u001b[0m\u001b[0;34m\u001b[0m\u001b[0m\n\u001b[1;32m      6\u001b[0m     \u001b[0;32mreturn\u001b[0m \u001b[0mres\u001b[0m \u001b[0;34m/\u001b[0m \u001b[0mlen\u001b[0m\u001b[0;34m(\u001b[0m\u001b[0mtrain\u001b[0m\u001b[0;34m)\u001b[0m\u001b[0;34m\u001b[0m\u001b[0m\n",
        "\u001b[0;32m<ipython-input-187-b145db9cfa7d>\u001b[0m in \u001b[0;36meq2\u001b[0;34m(xs, ys)\u001b[0m\n\u001b[1;32m     13\u001b[0m         \u001b[0my\u001b[0m\u001b[0;34m.\u001b[0m\u001b[0mextend\u001b[0m\u001b[0;34m(\u001b[0m\u001b[0mv\u001b[0m\u001b[0;34m[\u001b[0m\u001b[0mj\u001b[0m\u001b[0;34m]\u001b[0m\u001b[0;34m)\u001b[0m\u001b[0;34m\u001b[0m\u001b[0m\n\u001b[1;32m     14\u001b[0m     \u001b[0mz\u001b[0m \u001b[0;34m=\u001b[0m \u001b[0mnp\u001b[0m\u001b[0;34m.\u001b[0m\u001b[0marray\u001b[0m\u001b[0;34m(\u001b[0m\u001b[0mx\u001b[0m\u001b[0;34m)\u001b[0m \u001b[0;34m*\u001b[0m \u001b[0mnp\u001b[0m\u001b[0;34m.\u001b[0m\u001b[0marray\u001b[0m\u001b[0;34m(\u001b[0m\u001b[0my\u001b[0m\u001b[0;34m)\u001b[0m\u001b[0;34m\u001b[0m\u001b[0m\n\u001b[0;32m---> 15\u001b[0;31m     \u001b[0;32mreturn\u001b[0m \u001b[0msum\u001b[0m\u001b[0;34m(\u001b[0m\u001b[0mz\u001b[0m\u001b[0;34m)\u001b[0m \u001b[0;34m/\u001b[0m \u001b[0mn\u001b[0m\u001b[0;34m\u001b[0m\u001b[0m\n\u001b[0m",
        "\u001b[0;31mKeyboardInterrupt\u001b[0m: "
       ]
      }
     ],
     "prompt_number": 190
    },
    {
     "cell_type": "code",
     "collapsed": false,
     "input": [],
     "language": "python",
     "metadata": {},
     "outputs": []
    },
    {
     "cell_type": "code",
     "collapsed": false,
     "input": [],
     "language": "python",
     "metadata": {},
     "outputs": []
    },
    {
     "cell_type": "code",
     "collapsed": false,
     "input": [
      "print(np.array(wins[44000]).reshape(7, 6).T)"
     ],
     "language": "python",
     "metadata": {},
     "outputs": [
      {
       "output_type": "stream",
       "stream": "stdout",
       "text": [
        "[['x' 'b' 'o' 'b' 'x' 'b' 'b']\n",
        " ['o' 'b' 'b' 'b' 'b' 'b' 'b']\n",
        " ['o' 'b' 'b' 'b' 'b' 'b' 'b']\n",
        " ['x' 'b' 'b' 'b' 'b' 'b' 'b']\n",
        " ['x' 'b' 'b' 'b' 'b' 'b' 'b']\n",
        " ['o' 'b' 'b' 'b' 'b' 'b' 'b']]\n"
       ]
      }
     ],
     "prompt_number": 99
    },
    {
     "cell_type": "code",
     "collapsed": false,
     "input": [],
     "language": "python",
     "metadata": {},
     "outputs": []
    }
   ],
   "metadata": {}
  }
 ]
}